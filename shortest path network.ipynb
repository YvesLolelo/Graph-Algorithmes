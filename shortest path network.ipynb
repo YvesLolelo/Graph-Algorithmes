{
 "cells": [
  {
   "cell_type": "code",
   "execution_count": 1,
   "metadata": {},
   "outputs": [],
   "source": [
    "# Step 1: For each node prepare the destination and predecessor\n",
    "def initialize(graph, source):\n",
    "    d = {} # Stands for destination\n",
    "    p = {} # Stands for predecessor\n",
    "    for node in graph:\n",
    "        d[node] = float('Inf') # We start admiting that the rest of nodes are very very far\n",
    "        p[node] = None\n",
    "    d[source] = 0 # For the source we know how to reach\n",
    "    return d, p"
   ]
  },
  {
   "cell_type": "code",
   "execution_count": 2,
   "metadata": {},
   "outputs": [],
   "source": [
    "def relax(node, neighbour, graph, d, p):\n",
    "    # If the distance between the node and the neighbour is lower than the one I have now\n",
    "    if d[neighbour] > d[node] + graph[node][neighbour]:\n",
    "        # Record this lower distance\n",
    "        d[neighbour]  = d[node] + graph[node][neighbour]\n",
    "        p[neighbour] = node"
   ]
  },
  {
   "cell_type": "code",
   "execution_count": 3,
   "metadata": {},
   "outputs": [],
   "source": [
    "def bellman_ford(graph, source):\n",
    "    d, p = initialize(graph, source)\n",
    "    for i in range(len(graph)-1): #Run this until it converges\n",
    "        for u in graph:\n",
    "            for v in graph[u]: #For each neighbour of u\n",
    "                relax(u, v, graph, d, p) #Lets relax it\n",
    "\n",
    "    # Step 3: check for negative-weight cycles\n",
    "    for u in graph:\n",
    "        for v in graph[u]:\n",
    "            assert d[v] <= d[u] + graph[u][v]\n",
    "\n",
    "    return d, p"
   ]
  },
  {
   "cell_type": "code",
   "execution_count": 4,
   "metadata": {},
   "outputs": [
    {
     "name": "stdout",
     "output_type": "stream",
     "text": [
      "9\n"
     ]
    }
   ],
   "source": [
    "# start program\n",
    "n = int(input())\n"
   ]
  },
  {
   "cell_type": "code",
   "execution_count": 5,
   "metadata": {},
   "outputs": [
    {
     "name": "stdout",
     "output_type": "stream",
     "text": [
      "2 1 3 5 4 3 0\n",
      "3 2 5 2 6 10 0\n",
      "4 10 6 10 0\n",
      "6 1 7 2 0\n",
      "6 15 8 12 0\n",
      "7 10 8 2 0\n",
      "8 15 0\n",
      "0\n",
      "0\n"
     ]
    }
   ],
   "source": [
    "#make graph\n",
    "\n",
    "graph = {}\n",
    "for index in range(n):\n",
    "    key = str(index +1)\n",
    "    line = list(map(int,input().split()))\n",
    "    tmp_dict = {}\n",
    "    if len(line) > 1:\n",
    "        for i in range(0, len(line)-1,2):\n",
    "            tmp_dict[str(line[i])] = line[i+1]\n",
    "    graph[key] = tmp_dict"
   ]
  },
  {
   "cell_type": "code",
   "execution_count": 21,
   "metadata": {},
   "outputs": [
    {
     "name": "stdout",
     "output_type": "stream",
     "text": [
      "1\n",
      "9\n"
     ]
    }
   ],
   "source": [
    "start = input()\n",
    "finish = input()"
   ]
  },
  {
   "cell_type": "code",
   "execution_count": 22,
   "metadata": {},
   "outputs": [],
   "source": [
    "dist, path = bellman_ford(graph, start)"
   ]
  },
  {
   "cell_type": "code",
   "execution_count": 23,
   "metadata": {},
   "outputs": [
    {
     "name": "stdout",
     "output_type": "stream",
     "text": [
      "N\n"
     ]
    }
   ],
   "source": [
    "if dist[finish] == float('inf'):\n",
    "    print('N')\n",
    "else:\n",
    "    # Find path\n",
    "    node = finish\n",
    "    ans = [node]\n",
    "    while node:\n",
    "        node = path[node]\n",
    "        ans.append(node)\n",
    "    print('Y')\n",
    "    print(' '.join([n for n in ans[:-1][::-1]]))\n",
    "    print(dist[finish])"
   ]
  }
 ],
 "metadata": {
  "kernelspec": {
   "display_name": "Python 3 (ipykernel)",
   "language": "python",
   "name": "python3"
  },
  "language_info": {
   "codemirror_mode": {
    "name": "ipython",
    "version": 3
   },
   "file_extension": ".py",
   "mimetype": "text/x-python",
   "name": "python",
   "nbconvert_exporter": "python",
   "pygments_lexer": "ipython3",
   "version": "3.11.5"
  }
 },
 "nbformat": 4,
 "nbformat_minor": 2
}
