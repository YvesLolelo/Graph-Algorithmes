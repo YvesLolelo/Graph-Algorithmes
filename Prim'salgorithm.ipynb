{
 "cells": [
  {
   "cell_type": "code",
   "execution_count": 1,
   "metadata": {},
   "outputs": [
    {
     "name": "stdout",
     "output_type": "stream",
     "text": [
      "Enter an integer: 84\n"
     ]
    }
   ],
   "source": [
    "n = int(input(\"Enter an integer: \"))"
   ]
  },
  {
   "cell_type": "code",
   "execution_count": 2,
   "metadata": {},
   "outputs": [
    {
     "name": "stdout",
     "output_type": "stream",
     "text": [
      "12 24 32 42 48 54 62 70 76 82\n",
      "84 2 1 3 8 4 12 5 11 6\n",
      "3 7 9 1 1 3 9 6 2 9\n",
      "9 1 8 2 9 7 4 9 7 8\n",
      "7 1 12 5 11 7 4 1 11 4\n",
      "11 6 10 1 3 2 2 5 10 10\n",
      "3 1 9 4 4 3 4 8 6 3\n",
      "7 7 6 9 5 2 9 3 7 8\n",
      "5 6 3 32767\n"
     ]
    }
   ],
   "source": [
    "main_list = []\n",
    "while True:\n",
    "    line = list(map(int, input().split()))\n",
    "    if line[-1] == 32767:\n",
    "        main_list += line\n",
    "        break\n",
    "    main_list += line"
   ]
  },
  {
   "cell_type": "code",
   "execution_count": 3,
   "metadata": {},
   "outputs": [
    {
     "data": {
      "text/plain": [
       "[12,\n",
       " 24,\n",
       " 32,\n",
       " 42,\n",
       " 48,\n",
       " 54,\n",
       " 62,\n",
       " 70,\n",
       " 76,\n",
       " 82,\n",
       " 84,\n",
       " 2,\n",
       " 1,\n",
       " 3,\n",
       " 8,\n",
       " 4,\n",
       " 12,\n",
       " 5,\n",
       " 11,\n",
       " 6,\n",
       " 3,\n",
       " 7,\n",
       " 9,\n",
       " 1,\n",
       " 1,\n",
       " 3,\n",
       " 9,\n",
       " 6,\n",
       " 2,\n",
       " 9,\n",
       " 9,\n",
       " 1,\n",
       " 8,\n",
       " 2,\n",
       " 9,\n",
       " 7,\n",
       " 4,\n",
       " 9,\n",
       " 7,\n",
       " 8,\n",
       " 7,\n",
       " 1,\n",
       " 12,\n",
       " 5,\n",
       " 11,\n",
       " 7,\n",
       " 4,\n",
       " 1,\n",
       " 11,\n",
       " 4,\n",
       " 11,\n",
       " 6,\n",
       " 10,\n",
       " 1,\n",
       " 3,\n",
       " 2,\n",
       " 2,\n",
       " 5,\n",
       " 10,\n",
       " 10,\n",
       " 3,\n",
       " 1,\n",
       " 9,\n",
       " 4,\n",
       " 4,\n",
       " 3,\n",
       " 4,\n",
       " 8,\n",
       " 6,\n",
       " 3,\n",
       " 7,\n",
       " 7,\n",
       " 6,\n",
       " 9,\n",
       " 5,\n",
       " 2,\n",
       " 9,\n",
       " 3,\n",
       " 7,\n",
       " 8,\n",
       " 5,\n",
       " 6,\n",
       " 3,\n",
       " 32767]"
      ]
     },
     "execution_count": 3,
     "metadata": {},
     "output_type": "execute_result"
    }
   ],
   "source": [
    "main_list"
   ]
  },
  {
   "cell_type": "code",
   "execution_count": 4,
   "metadata": {},
   "outputs": [],
   "source": [
    "sep = main_list.index(84)"
   ]
  },
  {
   "cell_type": "code",
   "execution_count": 5,
   "metadata": {},
   "outputs": [
    {
     "data": {
      "text/plain": [
       "[[inf, inf, inf, inf, inf, inf, inf, inf, inf, inf],\n",
       " [inf, inf, inf, inf, inf, inf, inf, inf, inf, inf],\n",
       " [inf, inf, inf, inf, inf, inf, inf, inf, inf, inf],\n",
       " [inf, inf, inf, inf, inf, inf, inf, inf, inf, inf],\n",
       " [inf, inf, inf, inf, inf, inf, inf, inf, inf, inf],\n",
       " [inf, inf, inf, inf, inf, inf, inf, inf, inf, inf],\n",
       " [inf, inf, inf, inf, inf, inf, inf, inf, inf, inf],\n",
       " [inf, inf, inf, inf, inf, inf, inf, inf, inf, inf],\n",
       " [inf, inf, inf, inf, inf, inf, inf, inf, inf, inf],\n",
       " [inf, inf, inf, inf, inf, inf, inf, inf, inf, inf]]"
      ]
     },
     "execution_count": 5,
     "metadata": {},
     "output_type": "execute_result"
    }
   ],
   "source": [
    "matrix = []\n",
    "inf = float('inf')\n",
    "for i in range(sep):\n",
    "    matrix.append([])\n",
    "    for j in range(sep):\n",
    "        matrix[i].append(inf)\n",
    "matrix"
   ]
  },
  {
   "cell_type": "code",
   "execution_count": 6,
   "metadata": {},
   "outputs": [
    {
     "name": "stdout",
     "output_type": "stream",
     "text": [
      "[2, 1, 3, 8, 4, 12, 5, 11, 6, 3, 7, 9]\n",
      "[1, 1, 3, 9, 6, 2, 9, 9]\n",
      "[1, 8, 2, 9, 7, 4, 9, 7, 8, 7]\n",
      "[1, 12, 5, 11, 7, 4]\n",
      "[1, 11, 4, 11, 6, 10]\n",
      "[1, 3, 2, 2, 5, 10, 10, 3]\n",
      "[1, 9, 4, 4, 3, 4, 8, 6]\n",
      "[3, 7, 7, 6, 9, 5]\n",
      "[2, 9, 3, 7, 8, 5]\n",
      "[6, 3]\n"
     ]
    }
   ],
   "source": [
    "for i in range(sep):\n",
    "    start = main_list[i]-1\n",
    "    finish = main_list[i+1]-1\n",
    "    #print(start, finish)\n",
    "    tmp_list = main_list[start:finish]\n",
    "    print(tmp_list)\n",
    "    for j in range(0, len(tmp_list), 2):\n",
    "        matrix[i][tmp_list[j]-1] = tmp_list[j+1]\n"
   ]
  },
  {
   "cell_type": "code",
   "execution_count": 7,
   "metadata": {},
   "outputs": [
    {
     "data": {
      "text/plain": [
       "[[inf, 1, 8, 12, 11, 3, 9, inf, inf, inf],\n",
       " [1, inf, 9, inf, inf, 2, inf, inf, 9, inf],\n",
       " [8, 9, inf, inf, inf, inf, 4, 7, 7, inf],\n",
       " [12, inf, inf, inf, 11, inf, 4, inf, inf, inf],\n",
       " [11, inf, inf, 11, inf, 10, inf, inf, inf, inf],\n",
       " [3, 2, inf, inf, 10, inf, inf, inf, inf, 3],\n",
       " [9, inf, 4, 4, inf, inf, inf, 6, inf, inf],\n",
       " [inf, inf, 7, inf, inf, inf, 6, inf, 5, inf],\n",
       " [inf, 9, 7, inf, inf, inf, inf, 5, inf, inf],\n",
       " [inf, inf, inf, inf, inf, 3, inf, inf, inf, inf]]"
      ]
     },
     "execution_count": 7,
     "metadata": {},
     "output_type": "execute_result"
    }
   ],
   "source": [
    "matrix\n"
   ]
  },
  {
   "cell_type": "code",
   "execution_count": 8,
   "metadata": {},
   "outputs": [
    {
     "name": "stdout",
     "output_type": "stream",
     "text": [
      "|T|= 43\n"
     ]
    }
   ],
   "source": [
    "# Реализация алгоритма Прима на python 3\n",
    " \n",
    "import random\n",
    "from string import ascii_uppercase\n",
    " \n",
    "path_dict = {}\n",
    "def prima(W, city_labels = None):\n",
    "    \"\"\"\n",
    "    Алгоритм Прима для нахождения сети дорог минимальной длины\n",
    "    Дискретная алгебра, приложение 1\n",
    "    \"\"\"\n",
    " \n",
    "    inf = float('inf')\n",
    "    cities_count = len(W)\n",
    " \n",
    "    # проверка на размерость таблицы связей\n",
    "    for weights in W:\n",
    "        assert len(weights) == cities_count\n",
    " \n",
    "    # генерация имен городов\n",
    "    if not city_labels:\n",
    "        city_labels = [x+1 for x in range(cities_count)]\n",
    " \n",
    "    assert cities_count <= len(city_labels)\n",
    " \n",
    "    # выбор начального города\n",
    "    free_vertexes = list(range(0, len(city_labels)))\n",
    " \n",
    "    starting_vertex = random.choice(free_vertexes)\n",
    "    tied = [starting_vertex]\n",
    "    free_vertexes.remove(starting_vertex)\n",
    " \n",
    "  #  print('Started with %s' % city_labels[starting_vertex])\n",
    " \n",
    "    road_length = 0\n",
    "    global path_dict\n",
    "   \n",
    "    # пока есть свободные вершины\n",
    "    while free_vertexes:\n",
    "        min_link = None  # соединение, образующее минимальный путь\n",
    "        overall_min_path = inf    # минимальный путь среди всех возможных\n",
    " \n",
    "        # проход по всем уже связанным дорогой вершинам\n",
    "        for current_vertex in tied:\n",
    "            weights = W[current_vertex]   # связи текущей вершины с другими\n",
    " \n",
    "            min_path = inf\n",
    "            free_vertex_min = current_vertex\n",
    " \n",
    "            # проход по связанным городам\n",
    "            for vertex in range(cities_count):\n",
    "                vertex_path = weights[vertex]\n",
    "                if vertex_path < -10000:\n",
    "                    continue\n",
    " \n",
    "                if vertex in free_vertexes and vertex_path < min_path:\n",
    "                    free_vertex_min = vertex\n",
    "                    min_path = vertex_path\n",
    " \n",
    "            if free_vertex_min != current_vertex:\n",
    "                if overall_min_path > min_path:\n",
    "                    min_link = (current_vertex, free_vertex_min)\n",
    "                    overall_min_path = min_path\n",
    "        try:\n",
    "            path_length = W[min_link[0]][min_link[1]]\n",
    "        except TypeError:\n",
    "            print('Unable to find path')\n",
    "            return\n",
    " \n",
    "        #print('Connecting %s to %s [%s]' % (city_labels[min_link[0]], city_labels[min_link[1]], path_length))\n",
    "        path_dict[(str(city_labels[min_link[0]]), str(city_labels[min_link[1]]))] = path_length\n",
    " \n",
    "        road_length += path_length\n",
    "        free_vertexes.remove(min_link[1])\n",
    "        tied.append(min_link[1])\n",
    " \n",
    "    print('|T|= %s' % road_length)\n",
    "    return road_length\n",
    "    # TODO: return graph\n",
    " \n",
    "if __name__ == '__main__':\n",
    " \n",
    "    inf = float('inf')\n",
    " \n",
    " \n",
    "    res = prima(matrix)"
   ]
  },
  {
   "cell_type": "code",
   "execution_count": 9,
   "metadata": {},
   "outputs": [
    {
     "data": {
      "text/plain": [
       "{('5', '6'): 10,\n",
       " ('6', '2'): 2,\n",
       " ('2', '1'): 1,\n",
       " ('6', '10'): 3,\n",
       " ('1', '3'): 8,\n",
       " ('3', '7'): 4,\n",
       " ('7', '4'): 4,\n",
       " ('7', '8'): 6,\n",
       " ('8', '9'): 5}"
      ]
     },
     "execution_count": 9,
     "metadata": {},
     "output_type": "execute_result"
    }
   ],
   "source": [
    "path_dict"
   ]
  },
  {
   "cell_type": "code",
   "execution_count": 10,
   "metadata": {},
   "outputs": [],
   "source": [
    "ans = []\n",
    "for i in range(1, sep+1):\n",
    "    line = []\n",
    "    keys = list(path_dict.keys())\n",
    "    for key in keys:\n",
    "        if str(i) in key:\n",
    "            if key[0] == str(i):\n",
    "                line.append((str(key[1]), path_dict.get(key)))\n",
    "            else:\n",
    "                line.append((str(key[0]), path_dict.get(key)))\n",
    "    ans.append(line)"
   ]
  },
  {
   "cell_type": "code",
   "execution_count": 11,
   "metadata": {},
   "outputs": [],
   "source": [
    "for line in ans:\n",
    "    line.sort()"
   ]
  },
  {
   "cell_type": "code",
   "execution_count": 16,
   "metadata": {},
   "outputs": [
    {
     "name": "stdout",
     "output_type": "stream",
     "text": [
      "2 1 3 8 0\n",
      "1 1 6 2 0\n",
      "1 8 7 4 0\n",
      "7 4 0\n",
      "6 10 0\n",
      "10 3 2 2 5 10 0\n",
      "3 4 4 4 8 6 0\n",
      "7 6 9 5 0\n",
      "8 5 0\n",
      "6 3 0\n",
      "43\n"
     ]
    }
   ],
   "source": [
    "for line in ans:\n",
    "    print(' '.join(k[0] + ' ' + str(k[1]) for k in line) + ' 0')\n",
    "print(res)"
   ]
  },
  {
   "cell_type": "code",
   "execution_count": 13,
   "metadata": {},
   "outputs": [
    {
     "data": {
      "text/plain": [
       "[[('2', 1), ('3', 8)],\n",
       " [('1', 1), ('6', 2)],\n",
       " [('1', 8), ('7', 4)],\n",
       " [('7', 4)],\n",
       " [('6', 10)],\n",
       " [('10', 3), ('2', 2), ('5', 10)],\n",
       " [('3', 4), ('4', 4), ('8', 6)],\n",
       " [('7', 6), ('9', 5)],\n",
       " [('8', 5)],\n",
       " [('6', 3)]]"
      ]
     },
     "execution_count": 13,
     "metadata": {},
     "output_type": "execute_result"
    }
   ],
   "source": [
    "ans"
   ]
  },
  {
   "cell_type": "code",
   "execution_count": 25,
   "metadata": {},
   "outputs": [
    {
     "name": "stdout",
     "output_type": "stream",
     "text": [
      "2 3 0\n",
      "1 6 0\n",
      "1 7 0\n",
      "7 0\n",
      "6 0\n",
      "10 2 5 0\n",
      "3 4 8 0\n",
      "7 9 0\n",
      "8 0\n",
      "6 0\n",
      "43\n"
     ]
    }
   ],
   "source": [
    "for line in ans:\n",
    "    print(' '.join(k[0]  for k in line) + ' 0')\n",
    "print(res)"
   ]
  },
  {
   "cell_type": "code",
   "execution_count": 26,
   "metadata": {},
   "outputs": [
    {
     "data": {
      "text/plain": [
       "[[('2', 1), ('3', 8)],\n",
       " [('1', 1), ('6', 2)],\n",
       " [('1', 8), ('7', 4)],\n",
       " [('7', 4)],\n",
       " [('6', 10)],\n",
       " [('10', 3), ('2', 2), ('5', 10)],\n",
       " [('3', 4), ('4', 4), ('8', 6)],\n",
       " [('7', 6), ('9', 5)],\n",
       " [('8', 5)],\n",
       " [('6', 3)]]"
      ]
     },
     "execution_count": 26,
     "metadata": {},
     "output_type": "execute_result"
    }
   ],
   "source": [
    "ans"
   ]
  }
 ],
 "metadata": {
  "kernelspec": {
   "display_name": "Python 3 (ipykernel)",
   "language": "python",
   "name": "python3"
  },
  "language_info": {
   "codemirror_mode": {
    "name": "ipython",
    "version": 3
   },
   "file_extension": ".py",
   "mimetype": "text/x-python",
   "name": "python",
   "nbconvert_exporter": "python",
   "pygments_lexer": "ipython3",
   "version": "3.11.5"
  }
 },
 "nbformat": 4,
 "nbformat_minor": 2
}
